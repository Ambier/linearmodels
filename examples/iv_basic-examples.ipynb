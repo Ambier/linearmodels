{
 "cells": [
  {
   "cell_type": "markdown",
   "metadata": {},
   "source": [
    "# Basic Examples"
   ]
  },
  {
   "cell_type": "markdown",
   "metadata": {},
   "source": [
    "## Instrumental Variables estimation and two Stage Least Squares\n",
    "\n",
    "**Chapter 15**\n",
    "_Introduction to Econometrics_, Jeffrey Wooldridge"
   ]
  },
  {
   "cell_type": "code",
   "execution_count": 1,
   "metadata": {
    "collapsed": false
   },
   "outputs": [],
   "source": [
    "%matplotlib inline\n",
    "import seaborn as sns\n",
    "sns.mpl.rcParams['figure.figsize'] = (20,12)"
   ]
  },
  {
   "cell_type": "code",
   "execution_count": 2,
   "metadata": {
    "collapsed": false
   },
   "outputs": [
    {
     "data": {
      "text/plain": [
       "const       float64\n",
       "inlf          int64\n",
       "hours         int64\n",
       "kidslt6       int64\n",
       "kidsge6       int64\n",
       "age           int64\n",
       "educ          int64\n",
       "wage        float64\n",
       "repwage     float64\n",
       "hushrs        int64\n",
       "husage        int64\n",
       "huseduc       int64\n",
       "huswage     float64\n",
       "faminc        int64\n",
       "mtr         float64\n",
       "motheduc      int64\n",
       "fatheduc      int64\n",
       "unem        float64\n",
       "city          int64\n",
       "exper         int64\n",
       "nwifeinc    float64\n",
       "lwage       float64\n",
       "expersq       int64\n",
       "dtype: object"
      ]
     },
     "execution_count": 2,
     "metadata": {},
     "output_type": "execute_result"
    }
   ],
   "source": [
    "import numpy as np\n",
    "from statsmodels.api import add_constant\n",
    "from linearmodels.datasets import mroz\n",
    "data = mroz.load()\n",
    "data = data.dropna()\n",
    "data = add_constant(data, has_constant='add')\n",
    "data.dtypes"
   ]
  },
  {
   "cell_type": "code",
   "execution_count": 3,
   "metadata": {
    "collapsed": false,
    "scrolled": true
   },
   "outputs": [
    {
     "name": "stdout",
     "output_type": "stream",
     "text": [
      "                          IV-2SLS Estimation Summary                          \n",
      "==============================================================================\n",
      "Dep. Variable:                   wage   R-squared:                      0.1179\n",
      "Estimator:                    IV-2SLS   Adj. R-squared:                 0.1158\n",
      "No. Observations:                 428   F-statistic:                    57.196\n",
      "Date:                Tue, Mar 14 2017   P-value (F-stat)                0.0000\n",
      "Time:                        12:58:03   Distribution:                  chi2(1)\n",
      "Cov. Estimator:            unadjusted                                         \n",
      "                                                                              \n",
      "                             Parameter Estimates                              \n",
      "==============================================================================\n",
      "           Parameters  Std. Err.     T-stat    P-value    Lower CI    Upper CI\n",
      "------------------------------------------------------------------------------\n",
      "const         -0.1852     0.1848    -1.0022     0.3163     -0.5474      0.1770\n",
      "educ           0.1086     0.0144     7.5628     0.0000      0.0805      0.1368\n",
      "==============================================================================\n"
     ]
    }
   ],
   "source": [
    "from linearmodels import iv\n",
    "res = iv.IV2SLS(np.log(data.wage), data[['const','educ']], None, None).fit('unadjusted')\n",
    "print(res.summary)"
   ]
  },
  {
   "cell_type": "code",
   "execution_count": 4,
   "metadata": {
    "collapsed": false
   },
   "outputs": [
    {
     "name": "stdout",
     "output_type": "stream",
     "text": [
      "                          IV-2SLS Estimation Summary                          \n",
      "==============================================================================\n",
      "Dep. Variable:                   educ   R-squared:                      0.1726\n",
      "Estimator:                    IV-2SLS   Adj. R-squared:                 0.1706\n",
      "No. Observations:                 428   F-statistic:                    89.258\n",
      "Date:                Tue, Mar 14 2017   P-value (F-stat)                0.0000\n",
      "Time:                        12:58:03   Distribution:                  chi2(1)\n",
      "Cov. Estimator:            unadjusted                                         \n",
      "                                                                              \n",
      "                             Parameter Estimates                              \n",
      "==============================================================================\n",
      "           Parameters  Std. Err.     T-stat    P-value    Lower CI    Upper CI\n",
      "------------------------------------------------------------------------------\n",
      "const          10.237     0.2753     37.186     0.0000      9.6975      10.777\n",
      "fatheduc       0.2694     0.0285     9.4476     0.0000      0.2135      0.3253\n",
      "==============================================================================\n"
     ]
    }
   ],
   "source": [
    "res_first = iv.IV2SLS(data.educ, data[['const','fatheduc']], None, None).fit('unadjusted')\n",
    "print(res_first.summary)"
   ]
  },
  {
   "cell_type": "code",
   "execution_count": 5,
   "metadata": {
    "collapsed": false
   },
   "outputs": [
    {
     "name": "stdout",
     "output_type": "stream",
     "text": [
      "                          IV-2SLS Estimation Summary                          \n",
      "==============================================================================\n",
      "Dep. Variable:                   wage   R-squared:                      0.0934\n",
      "Estimator:                    IV-2SLS   Adj. R-squared:                 0.0913\n",
      "No. Observations:                 428   F-statistic:                    2.8487\n",
      "Date:                Tue, Mar 14 2017   P-value (F-stat)                0.0914\n",
      "Time:                        12:58:03   Distribution:                  chi2(1)\n",
      "Cov. Estimator:            unadjusted                                         \n",
      "                                                                              \n",
      "                             Parameter Estimates                              \n",
      "==============================================================================\n",
      "           Parameters  Std. Err.     T-stat    P-value    Lower CI    Upper CI\n",
      "------------------------------------------------------------------------------\n",
      "const          0.4411     0.4451     0.9911     0.3216     -0.4312      1.3134\n",
      "educ           0.0592     0.0351     1.6878     0.0914     -0.0095      0.1279\n",
      "==============================================================================\n",
      "\n",
      "Endogenous: educ\n",
      "Instruments: fatheduc\n",
      "Unadjusted Covariance (Homoskedastic)\n",
      "Debiased: False\n"
     ]
    }
   ],
   "source": [
    "data['educ_hat'] = data.educ - res.resids\n",
    "res_second = iv.IV2SLS(np.log(data.wage), data[['const']], data.educ, data.fatheduc).fit('unadjusted')\n",
    "print(res_second.summary)"
   ]
  },
  {
   "cell_type": "code",
   "execution_count": 6,
   "metadata": {
    "collapsed": false
   },
   "outputs": [
    {
     "name": "stdout",
     "output_type": "stream",
     "text": [
      "                          IV-2SLS Estimation Summary                          \n",
      "==============================================================================\n",
      "Dep. Variable:                   educ   R-squared:                      0.0576\n",
      "Estimator:                    IV-2SLS   Adj. R-squared:                 0.0566\n",
      "No. Observations:                 934   F-statistic:                    57.107\n",
      "Date:                Tue, Mar 14 2017   P-value (F-stat)                0.0000\n",
      "Time:                        12:58:03   Distribution:                  chi2(1)\n",
      "Cov. Estimator:            unadjusted                                         \n",
      "                                                                              \n",
      "                             Parameter Estimates                              \n",
      "==============================================================================\n",
      "           Parameters  Std. Err.     T-stat    P-value    Lower CI    Upper CI\n",
      "------------------------------------------------------------------------------\n",
      "const          14.143     0.1131     125.02     0.0000      13.921      14.365\n",
      "sibs          -0.2287     0.0303    -7.5569     0.0000     -0.2880     -0.1694\n",
      "==============================================================================\n"
     ]
    }
   ],
   "source": [
    "from linearmodels.datasets import wage\n",
    "men = wage.load()\n",
    "men = men[['educ','wage','sibs']]\n",
    "men = add_constant(men)\n",
    "men = men.dropna()\n",
    "res_first = iv.IV2SLS(men.educ, men[['const', 'sibs']], None, None).fit('unadjusted')\n",
    "print(res_first.summary)"
   ]
  },
  {
   "cell_type": "code",
   "execution_count": 7,
   "metadata": {
    "collapsed": false
   },
   "outputs": [
    {
     "name": "stdout",
     "output_type": "stream",
     "text": [
      "                          IV-2SLS Estimation Summary                          \n",
      "==============================================================================\n",
      "Dep. Variable:                   wage   R-squared:                     -0.0090\n",
      "Estimator:                    IV-2SLS   Adj. R-squared:                -0.0101\n",
      "No. Observations:                 934   F-statistic:                    21.715\n",
      "Date:                Tue, Mar 14 2017   P-value (F-stat)                0.0000\n",
      "Time:                        12:58:03   Distribution:                  chi2(1)\n",
      "Cov. Estimator:            unadjusted                                         \n",
      "                                                                              \n",
      "                             Parameter Estimates                              \n",
      "==============================================================================\n",
      "           Parameters  Std. Err.     T-stat    P-value    Lower CI    Upper CI\n",
      "------------------------------------------------------------------------------\n",
      "const          5.1310     0.3539     14.497     0.0000      4.4373      5.8248\n",
      "educ           0.1224     0.0263     4.6599     0.0000      0.0709      0.1738\n",
      "==============================================================================\n",
      "\n",
      "Endogenous: educ\n",
      "Instruments: sibs\n",
      "Unadjusted Covariance (Homoskedastic)\n",
      "Debiased: False\n"
     ]
    }
   ],
   "source": [
    "res = iv.IV2SLS(np.log(men.wage), men.const, men.educ, men.sibs).fit('unadjusted')\n",
    "print(res.summary)"
   ]
  },
  {
   "cell_type": "code",
   "execution_count": 8,
   "metadata": {
    "collapsed": false
   },
   "outputs": [
    {
     "name": "stdout",
     "output_type": "stream",
     "text": [
      "                          IV-2SLS Estimation Summary                          \n",
      "==============================================================================\n",
      "Dep. Variable:                  packs   R-squared:                      0.0015\n",
      "Estimator:                    IV-2SLS   Adj. R-squared:                 0.0008\n",
      "No. Observations:                1388   F-statistic:                    2.0731\n",
      "Date:                Tue, Mar 14 2017   P-value (F-stat)                0.1499\n",
      "Time:                        12:58:03   Distribution:                  chi2(1)\n",
      "Cov. Estimator:            unadjusted                                         \n",
      "                                                                              \n",
      "                             Parameter Estimates                              \n",
      "==============================================================================\n",
      "           Parameters  Std. Err.     T-stat    P-value    Lower CI    Upper CI\n",
      "------------------------------------------------------------------------------\n",
      "const         -2.9746     3.2361    -0.9192     0.3580     -9.3172      3.3681\n",
      "cigprice       0.0356     0.0247     1.4398     0.1499     -0.0129      0.0840\n",
      "==============================================================================\n"
     ]
    }
   ],
   "source": [
    "from linearmodels.datasets import birthweight\n",
    "data = birthweight.load()\n",
    "data = add_constant(data)\n",
    "res = iv.IV2SLS(data.packs, data[['const','cigprice']], None, None).fit('unadjusted')\n",
    "print(res)"
   ]
  },
  {
   "cell_type": "code",
   "execution_count": 9,
   "metadata": {
    "collapsed": false
   },
   "outputs": [
    {
     "name": "stdout",
     "output_type": "stream",
     "text": [
      "                          IV-2SLS Estimation Summary                          \n",
      "==============================================================================\n",
      "Dep. Variable:                  bwght   R-squared:                     -1.5224\n",
      "Estimator:                    IV-2SLS   Adj. R-squared:                -1.5242\n",
      "No. Observations:                1388   F-statistic:                    1.1356\n",
      "Date:                Tue, Mar 14 2017   P-value (F-stat)                0.2866\n",
      "Time:                        12:58:03   Distribution:                  chi2(1)\n",
      "Cov. Estimator:            unadjusted                                         \n",
      "                                                                              \n",
      "                             Parameter Estimates                              \n",
      "==============================================================================\n",
      "           Parameters  Std. Err.     T-stat    P-value    Lower CI    Upper CI\n",
      "------------------------------------------------------------------------------\n",
      "const          4.7203     0.0381     123.80     0.0000      4.6456      4.7951\n",
      "packs          0.0238     0.0223     1.0656     0.2866     -0.0199      0.0675\n",
      "==============================================================================\n",
      "\n",
      "Endogenous: packs\n",
      "Instruments: cigprice\n",
      "Unadjusted Covariance (Homoskedastic)\n",
      "Debiased: False\n",
      "\n",
      "J. Mullahy (1997), \"Instrumental-Variable Estimation of Count Data Models: \n",
      "Applications to Models of Cigarette Smoking Behavior,\" Review of Economics \n",
      "and Statistics 79, 596-593.\n",
      "\n",
      "faminc                   1988 family income, $1000s\n",
      "cigtax                   cig. tax in home state, 1988\n",
      "cigprice                 cig. price in home state, 1988\n",
      "bwght                    birth weight, ounces\n",
      "fatheduc                 father's yrs of educ\n",
      "motheduc                 mother's yrs of educ\n",
      "parity                   birth order of child\n",
      "male                     =1 if male child\n",
      "white                    =1 if white\n",
      "cigs                     cigs smked per day while preg\n",
      "lbwght                   log of bwght\n",
      "bwghtlbs                 birth weight, pounds\n",
      "packs                    packs smked per day while preg\n",
      "faminc                   log(faminc)\n",
      "\n",
      "        const       faminc       cigtax     cigprice        bwght  \\\n",
      "count  1388.0  1388.000000  1388.000000  1388.000000  1388.000000   \n",
      "mean      1.0    29.026657    19.552954   130.559006   118.699568   \n",
      "std       0.0    18.739285     7.795598    10.244484    20.353964   \n",
      "min       1.0     0.500000     2.000000   103.800000    23.000000   \n",
      "25%       1.0    14.500000    15.000000   122.800000   107.000000   \n",
      "50%       1.0    27.500000    20.000000   130.800000   120.000000   \n",
      "75%       1.0    37.500000    26.000000   137.000000   132.000000   \n",
      "max       1.0    65.000000    38.000000   152.500000   271.000000   \n",
      "\n",
      "            parity         male        white         cigs       lbwght  \\\n",
      "count  1388.000000  1388.000000  1388.000000  1388.000000  1388.000000   \n",
      "mean      1.632565     0.520893     0.784582     2.087176     4.760031   \n",
      "std       0.894027     0.499743     0.411260     5.972688     0.190662   \n",
      "min       1.000000     0.000000     0.000000     0.000000     3.135494   \n",
      "25%       1.000000     0.000000     1.000000     0.000000     4.672829   \n",
      "50%       1.000000     1.000000     1.000000     0.000000     4.787492   \n",
      "75%       2.000000     1.000000     1.000000     0.000000     4.882802   \n",
      "max       6.000000     1.000000     1.000000    50.000000     5.602119   \n",
      "\n",
      "          bwghtlbs        packs      lfaminc  \n",
      "count  1388.000000  1388.000000  1388.000000  \n",
      "mean      7.375495     1.670605     3.071271  \n",
      "std       1.307107     9.438301     0.918064  \n",
      "min       0.062500     0.000000    -0.693147  \n",
      "25%       6.671875     0.000000     2.674149  \n",
      "50%       7.437500     0.000000     3.314186  \n",
      "75%       8.203125     0.000000     3.624341  \n",
      "max      12.000000    75.000000     4.174387  \n"
     ]
    }
   ],
   "source": [
    "from linearmodels.datasets import birthweight\n",
    "data = birthweight.load()\n",
    "data = add_constant(data)\n",
    "res = iv.IV2SLS(np.log(data.bwght), data.const, data.packs, data.cigprice).fit('unadjusted')\n",
    "print(res)\n",
    "print(birthweight.DESCR)\n",
    "print(data.describe())"
   ]
  },
  {
   "cell_type": "code",
   "execution_count": 10,
   "metadata": {
    "collapsed": false
   },
   "outputs": [
    {
     "name": "stdout",
     "output_type": "stream",
     "text": [
      "                          IV-2SLS Estimation Summary                          \n",
      "==============================================================================\n",
      "Dep. Variable:                   educ   R-squared:                      0.4771\n",
      "Estimator:                    IV-2SLS   Adj. R-squared:                 0.4745\n",
      "No. Observations:                3010   F-statistic:                    3693.4\n",
      "Date:                Tue, Mar 14 2017   P-value (F-stat)                0.0000\n",
      "Time:                        12:58:03   Distribution:                 chi2(15)\n",
      "Cov. Estimator:                robust                                         \n",
      "                                                                              \n",
      "                             Parameter Estimates                              \n",
      "==============================================================================\n",
      "           Parameters  Std. Err.     T-stat    P-value    Lower CI    Upper CI\n",
      "------------------------------------------------------------------------------\n",
      "nearc4         0.3199     0.0848     3.7702     0.0002      0.1536      0.4862\n",
      "const          16.638     0.2148     77.456     0.0000      16.217      17.059\n",
      "exper         -0.4125     0.0320    -12.896     0.0000     -0.4752     -0.3498\n",
      "expersq        0.0009     0.0017     0.5100     0.6100     -0.0025      0.0042\n",
      "black         -0.9355     0.0923    -10.138     0.0000     -1.1164     -0.7547\n",
      "smsa           0.4022     0.1109     3.6255     0.0003      0.1848      0.6196\n",
      "south         -0.0516     0.1416    -0.3645     0.7155     -0.3291      0.2259\n",
      "smsa66         0.0255     0.1103     0.2309     0.8174     -0.1908      0.2417\n",
      "reg662        -0.0786     0.1854    -0.4242     0.6714     -0.4420      0.2847\n",
      "reg663        -0.0279     0.1789    -0.1562     0.8759     -0.3785      0.3226\n",
      "reg664         0.1172     0.2070     0.5660     0.5714     -0.2886      0.5230\n",
      "reg665        -0.2726     0.2237    -1.2186     0.2230     -0.7111      0.1659\n",
      "reg666        -0.3028     0.2361    -1.2826     0.1996     -0.7656      0.1599\n",
      "reg667        -0.2168     0.2389    -0.9077     0.3640     -0.6850      0.2513\n",
      "reg668         0.5239     0.2562     2.0449     0.0409      0.0218      1.0260\n",
      "reg669         0.2103     0.1988     1.0575     0.2903     -0.1794      0.6000\n",
      "==============================================================================\n"
     ]
    }
   ],
   "source": [
    "from linearmodels.datasets import card\n",
    "data = card.load()\n",
    "data = add_constant(data)\n",
    "data.dtypes\n",
    "dep = ['wage']\n",
    "endog = ['educ']\n",
    "exog = ['const','exper','expersq','black','smsa','south','smsa66','reg662',\n",
    "       'reg663','reg664','reg665','reg666','reg667','reg668','reg669']\n",
    "instr = ['nearc4']\n",
    "data = data[dep +exog+endog+ instr].dropna()\n",
    "res = iv.IV2SLS(data.educ, data[instr+exog], None, None).fit()\n",
    "print(res.summary)"
   ]
  },
  {
   "cell_type": "code",
   "execution_count": 11,
   "metadata": {
    "collapsed": false
   },
   "outputs": [
    {
     "name": "stdout",
     "output_type": "stream",
     "text": [
      "                          IV-2SLS Estimation Summary                          \n",
      "==============================================================================\n",
      "Dep. Variable:                   wage   R-squared:                      0.2998\n",
      "Estimator:                    IV-2SLS   Adj. R-squared:                 0.2963\n",
      "No. Observations:                3010   F-statistic:                    1377.0\n",
      "Date:                Tue, Mar 14 2017   P-value (F-stat)                0.0000\n",
      "Time:                        12:58:03   Distribution:                 chi2(15)\n",
      "Cov. Estimator:                robust                                         \n",
      "                                                                              \n",
      "                             Parameter Estimates                              \n",
      "==============================================================================\n",
      "           Parameters  Std. Err.     T-stat    P-value    Lower CI    Upper CI\n",
      "------------------------------------------------------------------------------\n",
      "const          4.6208     0.0740     62.417     0.0000      4.4757      4.7659\n",
      "exper          0.0848     0.0067     12.592     0.0000      0.0716      0.0980\n",
      "expersq       -0.0023     0.0003    -7.1798     0.0000     -0.0029     -0.0017\n",
      "black         -0.1990     0.0181    -10.985     0.0000     -0.2345     -0.1635\n",
      "smsa           0.1364     0.0192     7.1159     0.0000      0.0988      0.1739\n",
      "south         -0.1480     0.0280    -5.2917     0.0000     -0.2028     -0.0932\n",
      "smsa66         0.0262     0.0185     1.4153     0.1570     -0.0101      0.0626\n",
      "reg662         0.0964     0.0350     2.7531     0.0059      0.0278      0.1650\n",
      "reg663         0.1445     0.0337     4.2850     0.0000      0.0784      0.2107\n",
      "reg664         0.0551     0.0411     1.3402     0.1802     -0.0255      0.1356\n",
      "reg665         0.1280     0.0428     2.9912     0.0028      0.0441      0.2119\n",
      "reg666         0.1405     0.0450     3.1223     0.0018      0.0523      0.2287\n",
      "reg667         0.1180     0.0455     2.5934     0.0095      0.0288      0.2071\n",
      "reg668        -0.0564     0.0505    -1.1183     0.2634     -0.1553      0.0425\n",
      "reg669         0.1186     0.0387     3.0658     0.0022      0.0428      0.1944\n",
      "educ           0.0747     0.0036     20.540     0.0000      0.0676      0.0818\n",
      "==============================================================================\n"
     ]
    }
   ],
   "source": [
    "res = iv.IV2SLS(np.log(data.wage), data[exog+endog],None,None).fit()\n",
    "print(res.summary)"
   ]
  },
  {
   "cell_type": "code",
   "execution_count": 12,
   "metadata": {
    "collapsed": false
   },
   "outputs": [
    {
     "name": "stdout",
     "output_type": "stream",
     "text": [
      "                          IV-2SLS Estimation Summary                          \n",
      "==============================================================================\n",
      "Dep. Variable:                   wage   R-squared:                      0.2382\n",
      "Estimator:                    IV-2SLS   Adj. R-squared:                 0.2343\n",
      "No. Observations:                3010   F-statistic:                    840.83\n",
      "Date:                Tue, Mar 14 2017   P-value (F-stat)                0.0000\n",
      "Time:                        12:58:03   Distribution:                 chi2(15)\n",
      "Cov. Estimator:                robust                                         \n",
      "                                                                              \n",
      "                             Parameter Estimates                              \n",
      "==============================================================================\n",
      "           Parameters  Std. Err.     T-stat    P-value    Lower CI    Upper CI\n",
      "------------------------------------------------------------------------------\n",
      "const          3.6662     0.9085     4.0352     0.0001      1.8855      5.4468\n",
      "exper          0.1083     0.0233     4.6376     0.0000      0.0625      0.1540\n",
      "expersq       -0.0023     0.0003    -6.7128     0.0000     -0.0030     -0.0017\n",
      "black         -0.1468     0.0524    -2.8031     0.0051     -0.2494     -0.0441\n",
      "smsa           0.1118     0.0311     3.5995     0.0003      0.0509      0.1727\n",
      "south         -0.1447     0.0291    -4.9775     0.0000     -0.2016     -0.0877\n",
      "smsa66         0.0185     0.0205     0.9035     0.3663     -0.0217      0.0587\n",
      "reg662         0.1008     0.0365     2.7644     0.0057      0.0293      0.1722\n",
      "reg663         0.1483     0.0355     4.1760     0.0000      0.0787      0.2178\n",
      "reg664         0.0499     0.0435     1.1471     0.2514     -0.0354      0.1352\n",
      "reg665         0.1463     0.0491     2.9794     0.0029      0.0500      0.2425\n",
      "reg666         0.1629     0.0516     3.1553     0.0016      0.0617      0.2641\n",
      "reg667         0.1346     0.0504     2.6689     0.0076      0.0357      0.2334\n",
      "reg668        -0.0831     0.0571    -1.4552     0.1456     -0.1950      0.0288\n",
      "reg669         0.1078     0.0410     2.6317     0.0085      0.0275      0.1881\n",
      "educ           0.1315     0.0540     2.4353     0.0149      0.0257      0.2373\n",
      "==============================================================================\n",
      "\n",
      "Endogenous: educ\n",
      "Instruments: nearc4\n",
      "Robust Covariance (Heteroskedastic)\n",
      "Debiased: False\n"
     ]
    }
   ],
   "source": [
    "res = iv.IV2SLS(np.log(data.wage), data[exog], data[endog], data[instr]).fit()\n",
    "print(res.summary)"
   ]
  },
  {
   "cell_type": "code",
   "execution_count": 13,
   "metadata": {
    "collapsed": true
   },
   "outputs": [],
   "source": [
    "data = mroz.load()\n",
    "data = data.dropna()\n",
    "data = add_constant(data, has_constant='add')\n",
    "data['lnwage'] = np.log(data.wage)\n",
    "dep = 'lnwage'\n",
    "exog = ['const','exper','expersq']\n",
    "endog = ['educ']\n",
    "instr = ['fatheduc','motheduc']"
   ]
  },
  {
   "cell_type": "code",
   "execution_count": 14,
   "metadata": {
    "collapsed": false
   },
   "outputs": [
    {
     "name": "stdout",
     "output_type": "stream",
     "text": [
      "                          IV-2SLS Estimation Summary                          \n",
      "==============================================================================\n",
      "Dep. Variable:                 lnwage   R-squared:                      0.1357\n",
      "Estimator:                    IV-2SLS   Adj. R-squared:                 0.1296\n",
      "No. Observations:                 428   F-statistic:                    24.653\n",
      "Date:                Tue, Mar 14 2017   P-value (F-stat)                0.0000\n",
      "Time:                        12:58:03   Distribution:                  chi2(3)\n",
      "Cov. Estimator:            unadjusted                                         \n",
      "                                                                              \n",
      "                             Parameter Estimates                              \n",
      "==============================================================================\n",
      "           Parameters  Std. Err.     T-stat    P-value    Lower CI    Upper CI\n",
      "------------------------------------------------------------------------------\n",
      "const          0.0481     0.3985     0.1207     0.9039     -0.7329      0.8291\n",
      "exper          0.0442     0.0134     3.3038     0.0010      0.0180      0.0704\n",
      "expersq       -0.0009     0.0004    -2.2485     0.0245     -0.0017     -0.0001\n",
      "educ           0.0614     0.0313     1.9622     0.0497   7.043e-05      0.1227\n",
      "==============================================================================\n",
      "\n",
      "Endogenous: educ\n",
      "Instruments: fatheduc, motheduc\n",
      "Unadjusted Covariance (Homoskedastic)\n",
      "Debiased: False\n"
     ]
    }
   ],
   "source": [
    "res = iv.IV2SLS(data[dep],data[exog],data[endog],data[instr]).fit('unadjusted')\n",
    "print(res)"
   ]
  },
  {
   "cell_type": "code",
   "execution_count": 15,
   "metadata": {
    "collapsed": false
   },
   "outputs": [
    {
     "data": {
      "text/plain": [
       "Wooldridge's regression test of exogeneity\n",
       "H0: Endogenous variables are exogenous\n",
       "WaldTestStatistic(stat=2.8256012768590586, pval=0.093, dist=chi2(1))\n",
       "id=0x2d0e2864518"
      ]
     },
     "execution_count": 15,
     "metadata": {},
     "output_type": "execute_result"
    }
   ],
   "source": [
    "res.wooldridge_regression"
   ]
  },
  {
   "cell_type": "code",
   "execution_count": 16,
   "metadata": {
    "collapsed": false
   },
   "outputs": [
    {
     "name": "stdout",
     "output_type": "stream",
     "text": [
      "                          IV-2SLS Estimation Summary                          \n",
      "==============================================================================\n",
      "Dep. Variable:                 lnwage   R-squared:                      0.1624\n",
      "Estimator:                    IV-2SLS   Adj. R-squared:                 0.1544\n",
      "No. Observations:                 428   F-statistic:                    82.954\n",
      "Date:                Tue, Mar 14 2017   P-value (F-stat)                0.0000\n",
      "Time:                        12:58:03   Distribution:                  chi2(4)\n",
      "Cov. Estimator:            unadjusted                                         \n",
      "                                                                              \n",
      "                             Parameter Estimates                              \n",
      "==============================================================================\n",
      "           Parameters  Std. Err.     T-stat    P-value    Lower CI    Upper CI\n",
      "------------------------------------------------------------------------------\n",
      "residual       0.0582     0.0346     1.6810     0.0928     -0.0097      0.1260\n",
      "const          0.0481     0.3923     0.1226     0.9024     -0.7207      0.8169\n",
      "exper          0.0442     0.0132     3.3559     0.0008      0.0184      0.0700\n",
      "expersq       -0.0009     0.0004    -2.2840     0.0224     -0.0017     -0.0001\n",
      "educ           0.0614     0.0308     1.9932     0.0462      0.0010      0.1218\n",
      "==============================================================================\n",
      "\n",
      "Endogenous: educ\n",
      "Instruments: fatheduc, motheduc\n",
      "Unadjusted Covariance (Homoskedastic)\n",
      "Debiased: False\n"
     ]
    }
   ],
   "source": [
    "v = iv.IV2SLS(data[endog],data[exog+instr],None,None).fit().resids\n",
    "import pandas as pd\n",
    "res_direct = iv.IV2SLS(data[dep],pd.concat([v, data[exog]], 1),data[endog],data[instr]).fit('unadjusted')\n",
    "print(res_direct)"
   ]
  },
  {
   "cell_type": "code",
   "execution_count": 17,
   "metadata": {
    "collapsed": false
   },
   "outputs": [
    {
     "data": {
      "text/plain": [
       "Wooldridge's score test of overidentification\n",
       "H0: Model is not overidentified.\n",
       "WaldTestStatistic(stat=0.4434612781087668, pval=0.505, dist=chi2(1))\n",
       "id=0x2d0e2864550"
      ]
     },
     "execution_count": 17,
     "metadata": {},
     "output_type": "execute_result"
    }
   ],
   "source": [
    "res.wooldridge_overid"
   ]
  },
  {
   "cell_type": "code",
   "execution_count": 18,
   "metadata": {
    "collapsed": false
   },
   "outputs": [
    {
     "name": "stdout",
     "output_type": "stream",
     "text": [
      "                          IV-2SLS Estimation Summary                          \n",
      "==============================================================================\n",
      "Dep. Variable:               residual   R-squared:                      0.0009\n",
      "Estimator:                    IV-2SLS   Adj. R-squared:                -0.0086\n",
      "No. Observations:                 428   F-statistic:                    0.4361\n",
      "Date:                Tue, Mar 14 2017   P-value (F-stat)                0.9794\n",
      "Time:                        12:58:03   Distribution:                  chi2(4)\n",
      "Cov. Estimator:                robust                                         \n",
      "                                                                              \n",
      "                             Parameter Estimates                              \n",
      "==============================================================================\n",
      "           Parameters  Std. Err.     T-stat    P-value    Lower CI    Upper CI\n",
      "------------------------------------------------------------------------------\n",
      "exper          0.0006     0.0110     0.0530     0.9577     -0.0210      0.0221\n",
      "expersq    -1.345e-05     0.0003    -0.0398     0.9683     -0.0007      0.0006\n",
      "fatheduc       0.0060     0.0105     0.5752     0.5652     -0.0145      0.0266\n",
      "motheduc      -0.0062     0.0102    -0.6115     0.5408     -0.0262      0.0137\n",
      "==============================================================================\n"
     ]
    }
   ],
   "source": [
    "u = res.resids\n",
    "res = iv.IV2SLS(u,data[['exper','expersq'] + instr],None,None).fit()\n",
    "print(res)"
   ]
  },
  {
   "cell_type": "code",
   "execution_count": 19,
   "metadata": {
    "collapsed": false
   },
   "outputs": [
    {
     "data": {
      "text/plain": [
       "0.3719811106149802"
      ]
     },
     "execution_count": 19,
     "metadata": {},
     "output_type": "execute_result"
    }
   ],
   "source": [
    "res.nobs * res.rsquared"
   ]
  },
  {
   "cell_type": "code",
   "execution_count": 20,
   "metadata": {
    "collapsed": false
   },
   "outputs": [
    {
     "name": "stdout",
     "output_type": "stream",
     "text": [
      "                          IV-2SLS Estimation Summary                          \n",
      "==============================================================================\n",
      "Dep. Variable:                 lnwage   R-squared:                      0.1495\n",
      "Estimator:                    IV-2SLS   Adj. R-squared:                 0.1435\n",
      "No. Observations:                 428   F-statistic:                    34.900\n",
      "Date:                Tue, Mar 14 2017   P-value (F-stat)                0.0000\n",
      "Time:                        12:58:03   Distribution:                  chi2(3)\n",
      "Cov. Estimator:            unadjusted                                         \n",
      "                                                                              \n",
      "                             Parameter Estimates                              \n",
      "==============================================================================\n",
      "           Parameters  Std. Err.     T-stat    P-value    Lower CI    Upper CI\n",
      "------------------------------------------------------------------------------\n",
      "const         -0.1869     0.2841    -0.6578     0.5107     -0.7436      0.3699\n",
      "exper          0.0431     0.0132     3.2643     0.0011      0.0172      0.0690\n",
      "expersq       -0.0009     0.0004    -2.1880     0.0287     -0.0016  -8.992e-05\n",
      "educ           0.0804     0.0217     3.7095     0.0002      0.0379      0.1229\n",
      "==============================================================================\n",
      "\n",
      "Endogenous: educ\n",
      "Instruments: fatheduc, motheduc, huseduc\n",
      "Unadjusted Covariance (Homoskedastic)\n",
      "Debiased: False\n"
     ]
    }
   ],
   "source": [
    "instr = ['fatheduc','motheduc','huseduc']\n",
    "res = iv.IV2SLS(data[dep],data[exog],data[endog],data[instr]).fit('unadjusted')\n",
    "print(res)"
   ]
  },
  {
   "cell_type": "code",
   "execution_count": 21,
   "metadata": {
    "collapsed": false
   },
   "outputs": [
    {
     "data": {
      "text/plain": [
       "Wooldridge's score test of overidentification\n",
       "H0: Model is not overidentified.\n",
       "WaldTestStatistic(stat=1.0421330958068737, pval=0.594, dist=chi2(2))\n",
       "id=0x2d0e27efe80"
      ]
     },
     "execution_count": 21,
     "metadata": {},
     "output_type": "execute_result"
    }
   ],
   "source": [
    "res.wooldridge_overid"
   ]
  },
  {
   "cell_type": "code",
   "execution_count": 22,
   "metadata": {
    "collapsed": false
   },
   "outputs": [
    {
     "name": "stdout",
     "output_type": "stream",
     "text": [
      "                          IV-2SLS Estimation Summary                          \n",
      "==============================================================================\n",
      "Dep. Variable:               residual   R-squared:                      0.0026\n",
      "Estimator:                    IV-2SLS   Adj. R-squared:                -0.0092\n",
      "No. Observations:                 428   F-statistic:                    1.0587\n",
      "Date:                Tue, Mar 14 2017   P-value (F-stat)                0.9577\n",
      "Time:                        12:58:03   Distribution:                  chi2(5)\n",
      "Cov. Estimator:                robust                                         \n",
      "                                                                              \n",
      "                             Parameter Estimates                              \n",
      "==============================================================================\n",
      "           Parameters  Std. Err.     T-stat    P-value    Lower CI    Upper CI\n",
      "------------------------------------------------------------------------------\n",
      "exper          0.0003     0.0121     0.0284     0.9773     -0.0234      0.0241\n",
      "expersq    -1.547e-05     0.0004    -0.0434     0.9654     -0.0007      0.0007\n",
      "fatheduc       0.0007     0.0106     0.0678     0.9459     -0.0200      0.0214\n",
      "motheduc      -0.0102     0.0111    -0.9194     0.3579     -0.0321      0.0116\n",
      "huseduc        0.0071     0.0092     0.7727     0.4397     -0.0109      0.0252\n",
      "==============================================================================\n"
     ]
    }
   ],
   "source": [
    "u = res.resids\n",
    "res = iv.IV2SLS(u,data[['exper','expersq'] + instr],None,None).fit()\n",
    "print(res)"
   ]
  },
  {
   "cell_type": "code",
   "execution_count": 23,
   "metadata": {
    "collapsed": false
   },
   "outputs": [
    {
     "data": {
      "text/plain": [
       "1.112658868197094"
      ]
     },
     "execution_count": 23,
     "metadata": {},
     "output_type": "execute_result"
    }
   ],
   "source": [
    "res.nobs * res.rsquared"
   ]
  },
  {
   "cell_type": "code",
   "execution_count": 24,
   "metadata": {
    "collapsed": false
   },
   "outputs": [],
   "source": [
    "from linearmodels.datasets import jobtraining\n",
    "data = jobtraining.load()\n",
    "data.head()\n",
    "data = data.where(data.year.isin((1987,1988)))\n",
    "data = data.dropna(how='all',axis=0).sort_values(['fcode','year'])"
   ]
  },
  {
   "cell_type": "code",
   "execution_count": 28,
   "metadata": {
    "collapsed": false
   },
   "outputs": [
    {
     "name": "stdout",
     "output_type": "stream",
     "text": [
      "       const      scrap      grant     hrsemp\n",
      "count   45.0  45.000000  45.000000  45.000000\n",
      "mean     1.0  -0.817556   0.377778  10.812321\n",
      "std      0.0   2.496392   0.490310  20.523825\n",
      "min      1.0 -10.000000   0.000000 -19.850180\n",
      "25%      1.0  -1.000000   0.000000   0.000000\n",
      "50%      1.0  -0.110000   0.000000   1.846154\n",
      "75%      1.0   0.090000   1.000000  15.333330\n",
      "max      1.0   5.000000   1.000000  80.000000\n"
     ]
    }
   ],
   "source": [
    "deltas = data.groupby('fcode')['scrap','grant','hrsemp'].diff()\n",
    "deltas = add_constant(deltas).dropna()\n",
    "print(deltas.describe())"
   ]
  },
  {
   "cell_type": "code",
   "execution_count": 26,
   "metadata": {
    "collapsed": false
   },
   "outputs": [
    {
     "name": "stdout",
     "output_type": "stream",
     "text": [
      "                          IV-2SLS Estimation Summary                          \n",
      "==============================================================================\n",
      "Dep. Variable:                 hrsemp   R-squared:                      0.3408\n",
      "Estimator:                    IV-2SLS   Adj. R-squared:                 0.3255\n",
      "No. Observations:                  45   F-statistic:                    23.266\n",
      "Date:                Tue, Mar 14 2017   P-value (F-stat)                0.0000\n",
      "Time:                        12:58:03   Distribution:                  chi2(1)\n",
      "Cov. Estimator:            unadjusted                                         \n",
      "                                                                              \n",
      "                             Parameter Estimates                              \n",
      "==============================================================================\n",
      "           Parameters  Std. Err.     T-stat    P-value    Lower CI    Upper CI\n",
      "------------------------------------------------------------------------------\n",
      "const          1.5806     3.1139     0.5076     0.6117     -4.5225      7.6837\n",
      "grant          24.437     5.0662     4.8235     0.0000      14.507      34.367\n",
      "==============================================================================\n"
     ]
    }
   ],
   "source": [
    "mod = iv.IV2SLS(deltas.hrsemp, deltas[['const','grant']], None, None)\n",
    "print(mod.fit('unadjusted'))"
   ]
  },
  {
   "cell_type": "code",
   "execution_count": 27,
   "metadata": {
    "collapsed": false
   },
   "outputs": [
    {
     "name": "stdout",
     "output_type": "stream",
     "text": [
      "                          IV-2SLS Estimation Summary                          \n",
      "==============================================================================\n",
      "Dep. Variable:                  scrap   R-squared:                      0.0160\n",
      "Estimator:                    IV-2SLS   Adj. R-squared:                -0.0069\n",
      "No. Observations:                  45   F-statistic:                    1.5260\n",
      "Date:                Tue, Mar 14 2017   P-value (F-stat)                0.2167\n",
      "Time:                        12:58:03   Distribution:                  chi2(1)\n",
      "Cov. Estimator:                robust                                         \n",
      "                                                                              \n",
      "                             Parameter Estimates                              \n",
      "==============================================================================\n",
      "           Parameters  Std. Err.     T-stat    P-value    Lower CI    Upper CI\n",
      "------------------------------------------------------------------------------\n",
      "const         -0.4030     0.4885    -0.8248     0.4095     -1.3605      0.5545\n",
      "hrsemp        -0.0383     0.0310    -1.2353     0.2167     -0.0992      0.0225\n",
      "==============================================================================\n",
      "\n",
      "Endogenous: hrsemp\n",
      "Instruments: grant\n",
      "Robust Covariance (Heteroskedastic)\n",
      "Debiased: False\n"
     ]
    }
   ],
   "source": [
    "mod = iv.IV2SLS(deltas.scrap, deltas.const, deltas.hrsemp, deltas.grant)\n",
    "print(mod.fit())"
   ]
  }
 ],
 "metadata": {
  "kernelspec": {
   "display_name": "Python 3",
   "language": "python",
   "name": "python3"
  },
  "language_info": {
   "codemirror_mode": {
    "name": "ipython",
    "version": 3
   },
   "file_extension": ".py",
   "mimetype": "text/x-python",
   "name": "python",
   "nbconvert_exporter": "python",
   "pygments_lexer": "ipython3",
   "version": "3.5.3"
  }
 },
 "nbformat": 4,
 "nbformat_minor": 0
}